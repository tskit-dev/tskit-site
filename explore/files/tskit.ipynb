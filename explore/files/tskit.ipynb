{
 "cells": [
  {
   "cell_type": "code",
   "execution_count": 1,
   "id": "ad71f199",
   "metadata": {},
   "outputs": [],
   "source": [
    "import tskit"
   ]
  },
  {
   "cell_type": "code",
   "execution_count": 2,
   "id": "4961282f",
   "metadata": {},
   "outputs": [],
   "source": [
    "ts = tskit.load(\"data/demo.arg\")"
   ]
  },
  {
   "cell_type": "code",
   "execution_count": 3,
   "id": "1a896cb8",
   "metadata": {},
   "outputs": [
    {
     "data": {
      "text/html": "\n        <div>\n            <style>\n                .tskit-table thead tr th {text-align: left;padding: 0.5em 0.5em;}\n                .tskit-table tbody tr td {padding: 0.5em 0.5em;}\n                .tskit-table tbody tr td:first-of-type {text-align: left;}\n                .tskit-details-label {vertical-align: top; padding-right:5px;}\n                .tskit-table-set {display: inline-flex;flex-wrap: wrap;margin: -12px 0 0 -12px;width: calc(100% + 12px);}\n                .tskit-table-set-table {margin: 12px 0 0 12px;}\n                details {display: inline-block;}\n                summary {cursor: pointer; outline: 0; display: list-item;}\n            </style>\n            <div class=\"tskit-table-set\">\n                <div class=\"tskit-table-set-table\">\n                    <table class=\"tskit-table\">\n                        <thead>\n                            <tr>\n                                <th style=\"padding:0;line-height:21px;\">\n                                    <img style=\"height: 32px;display: inline-block;padding: 3px 5px 3px 0;\" src=\"https://raw.githubusercontent.com/tskit-dev/administrative/main/tskit_logo.svg\"/>\n                                    <a target=\"_blank\" href=\"https://tskit.dev/tskit/docs/latest/python-api.html#the-treesequence-class\"> Tree Sequence </a>\n                                </th>\n                            </tr>\n                        </thead>\n                        <tbody>\n                            <tr><td>Trees</td><td>861</td></tr>\n                            <tr><td>Sequence Length</td><td>1 000</td></tr>\n                            <tr><td>Time Units</td><td>generations</td></tr>\n                            <tr><td>Sample Nodes</td><td>200</td></tr>\n                            <tr><td>Total Size</td><td>427.9 KiB</td></tr>\n                            <tr>\n                                <td>Metadata</td><td style=\"text-align: left;\">No Metadata</td>\n                            </tr>\n                        </tbody>\n                    </table>\n                </div>\n                <div class=\"tskit-table-set-table\">\n                    <table class=\"tskit-table\">\n                        <thead>\n                            <tr>\n                                <th style=\"line-height:21px;\">Table</th>\n                                <th>Rows</th>\n                                <th>Size</th>\n                                <th>Has Metadata</th>\n                            </tr>\n                        </thead>\n                        <tbody>\n                            \n            <tr>\n                <td>Edges</td>\n                <td>6 910</td>\n                <td>215.9 KiB</td>\n                <td style=\"text-align: center;\">\n                    \n                </td>\n            </tr>\n        \n            <tr>\n                <td>Individuals</td>\n                <td>100</td>\n                <td>2.8 KiB</td>\n                <td style=\"text-align: center;\">\n                    \n                </td>\n            </tr>\n        \n            <tr>\n                <td>Migrations</td>\n                <td>0</td>\n                <td>8 Bytes</td>\n                <td style=\"text-align: center;\">\n                    \n                </td>\n            </tr>\n        \n            <tr>\n                <td>Mutations</td>\n                <td>2 308</td>\n                <td>83.4 KiB</td>\n                <td style=\"text-align: center;\">\n                    \n                </td>\n            </tr>\n        \n            <tr>\n                <td>Nodes</td>\n                <td>1 765</td>\n                <td>48.3 KiB</td>\n                <td style=\"text-align: center;\">\n                    \n                </td>\n            </tr>\n        \n            <tr>\n                <td>Populations</td>\n                <td>1</td>\n                <td>224 Bytes</td>\n                <td style=\"text-align: center;\">\n                    ✅\n                </td>\n            </tr>\n        \n            <tr>\n                <td>Provenances</td>\n                <td>2</td>\n                <td>1.7 KiB</td>\n                <td style=\"text-align: center;\">\n                    \n                </td>\n            </tr>\n        \n            <tr>\n                <td>Sites</td>\n                <td>887</td>\n                <td>21.7 KiB</td>\n                <td style=\"text-align: center;\">\n                    \n                </td>\n            </tr>\n        \n                        </tbody>\n                    </table>\n                </div>\n                <div class=\"tskit-table-set-table\">\n                    <table class=\"tskit-table\">\n                        <thead>\n                            <tr>\n                                <th>Provenance Timestamp</th>\n                                <th>Software Name</th>\n                                <th>Version</th>\n                                <th>Command</th>\n                                <th>Full record</th>\n                            </tr>\n                        </thead>\n                        <tbody>\n                            \n                <tr>\n                    <td>08 July, 2025 at 10:31:57 AM</td>\n                    <td>msprime</td>\n                    <td>1.3.4</td>\n                    <td>sim_mutations</td>\n                    <td>\n                        <details>\n                            <summary>Details</summary>\n                            \n            <div>\n                <span class=\"tskit-details-label\"></span>\n                <details >\n                    <summary>dict</summary>\n                    schema_version: 1.0.0<br/>\n            <div>\n                <span class=\"tskit-details-label\">software:</span>\n                <details >\n                    <summary>dict</summary>\n                    name: msprime<br/>version: 1.3.4<br/>\n                </details>\n            </div>\n            <br/>\n            <div>\n                <span class=\"tskit-details-label\">parameters:</span>\n                <details >\n                    <summary>dict</summary>\n                    command: sim_mutations<br/>\n            <div>\n                <span class=\"tskit-details-label\">tree_sequence:</span>\n                <details >\n                    <summary>dict</summary>\n                    __constant__: __current_ts__<br/>\n                </details>\n            </div>\n            <br/>rate: 0.1<br/>model: None<br/>start_time: None<br/>end_time: None<br/>discrete_genome: None<br/>keep: None<br/>random_seed: 741366272<br/>\n                </details>\n            </div>\n            <br/>\n            <div>\n                <span class=\"tskit-details-label\">environment:</span>\n                <details >\n                    <summary>dict</summary>\n                    \n            <div>\n                <span class=\"tskit-details-label\">os:</span>\n                <details >\n                    <summary>dict</summary>\n                    system: Linux<br/>node: treebeard<br/>release: 5.15.0-133-generic<br/>version: #144-Ubuntu SMP Fri Feb 7<br/>20:47:38 UTC 2025<br/>machine: x86_64<br/>\n                </details>\n            </div>\n            <br/>\n            <div>\n                <span class=\"tskit-details-label\">python:</span>\n                <details >\n                    <summary>dict</summary>\n                    implementation: CPython<br/>version: 3.11.11<br/>\n                </details>\n            </div>\n            <br/>\n            <div>\n                <span class=\"tskit-details-label\">libraries:</span>\n                <details >\n                    <summary>dict</summary>\n                    \n            <div>\n                <span class=\"tskit-details-label\">kastore:</span>\n                <details >\n                    <summary>dict</summary>\n                    version: 2.1.1<br/>\n                </details>\n            </div>\n            <br/>\n            <div>\n                <span class=\"tskit-details-label\">tskit:</span>\n                <details >\n                    <summary>dict</summary>\n                    version: 0.6.4<br/>\n                </details>\n            </div>\n            <br/>\n            <div>\n                <span class=\"tskit-details-label\">gsl:</span>\n                <details >\n                    <summary>dict</summary>\n                    version: 2.6<br/>\n                </details>\n            </div>\n            <br/>\n                </details>\n            </div>\n            <br/>\n                </details>\n            </div>\n            <br/>\n                </details>\n            </div>\n            \n                        </details>\n                    </td>\n                </tr>\n            \n                <tr>\n                    <td>08 July, 2025 at 10:31:47 AM</td>\n                    <td>msprime</td>\n                    <td>1.3.4</td>\n                    <td>sim_ancestry</td>\n                    <td>\n                        <details>\n                            <summary>Details</summary>\n                            \n            <div>\n                <span class=\"tskit-details-label\"></span>\n                <details >\n                    <summary>dict</summary>\n                    schema_version: 1.0.0<br/>\n            <div>\n                <span class=\"tskit-details-label\">software:</span>\n                <details >\n                    <summary>dict</summary>\n                    name: msprime<br/>version: 1.3.4<br/>\n                </details>\n            </div>\n            <br/>\n            <div>\n                <span class=\"tskit-details-label\">parameters:</span>\n                <details >\n                    <summary>dict</summary>\n                    command: sim_ancestry<br/>samples: 100<br/>demography: None<br/>sequence_length: 1000<br/>discrete_genome: None<br/>recombination_rate: 0.1<br/>gene_conversion_rate: None<br/>gene_conversion_tract_length: None<br/>population_size: None<br/>ploidy: None<br/>model: None<br/>initial_state: None<br/>start_time: None<br/>end_time: None<br/>record_migrations: None<br/>record_full_arg: None<br/>additional_nodes: None<br/>coalescing_segments_only: None<br/>num_labels: None<br/>random_seed: 1166325161<br/>replicate_index: 0<br/>\n                </details>\n            </div>\n            <br/>\n            <div>\n                <span class=\"tskit-details-label\">environment:</span>\n                <details >\n                    <summary>dict</summary>\n                    \n            <div>\n                <span class=\"tskit-details-label\">os:</span>\n                <details >\n                    <summary>dict</summary>\n                    system: Linux<br/>node: treebeard<br/>release: 5.15.0-133-generic<br/>version: #144-Ubuntu SMP Fri Feb 7<br/>20:47:38 UTC 2025<br/>machine: x86_64<br/>\n                </details>\n            </div>\n            <br/>\n            <div>\n                <span class=\"tskit-details-label\">python:</span>\n                <details >\n                    <summary>dict</summary>\n                    implementation: CPython<br/>version: 3.11.11<br/>\n                </details>\n            </div>\n            <br/>\n            <div>\n                <span class=\"tskit-details-label\">libraries:</span>\n                <details >\n                    <summary>dict</summary>\n                    \n            <div>\n                <span class=\"tskit-details-label\">kastore:</span>\n                <details >\n                    <summary>dict</summary>\n                    version: 2.1.1<br/>\n                </details>\n            </div>\n            <br/>\n            <div>\n                <span class=\"tskit-details-label\">tskit:</span>\n                <details >\n                    <summary>dict</summary>\n                    version: 0.6.4<br/>\n                </details>\n            </div>\n            <br/>\n            <div>\n                <span class=\"tskit-details-label\">gsl:</span>\n                <details >\n                    <summary>dict</summary>\n                    version: 2.6<br/>\n                </details>\n            </div>\n            <br/>\n                </details>\n            </div>\n            <br/>\n                </details>\n            </div>\n            <br/>\n                </details>\n            </div>\n            \n                        </details>\n                    </td>\n                </tr>\n            \n                        </tbody>\n                    </table>\n                </div>\n            </div>\n        </div>\n    ",
      "text/plain": [
       "<tskit.trees.TreeSequence at 0x7f4b48094ed0>"
      ]
     },
     "execution_count": 3,
     "metadata": {},
     "output_type": "execute_result"
    }
   ],
   "source": [
    "ts"
   ]
  },
  {
   "cell_type": "code",
   "execution_count": null,
   "id": "9c518928-5a62-40d4-866d-0488616b4461",
   "metadata": {},
   "outputs": [],
   "source": []
  }
 ],
 "metadata": {
  "kernelspec": {
   "display_name": "Python 3 (ipykernel)",
   "language": "python",
   "name": "python3"
  },
  "language_info": {
   "codemirror_mode": {
    "name": "ipython",
    "version": 3
   },
   "file_extension": ".py",
   "mimetype": "text/x-python",
   "name": "python",
   "nbconvert_exporter": "python",
   "pygments_lexer": "ipython3",
   "version": "3.11.11"
  }
 },
 "nbformat": 4,
 "nbformat_minor": 5
}